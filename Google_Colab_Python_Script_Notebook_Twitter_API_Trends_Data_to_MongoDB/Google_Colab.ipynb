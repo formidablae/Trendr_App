{
  "nbformat": 4,
  "nbformat_minor": 0,
  "metadata": {
    "colab": {
      "name": "Google_Colab.ipynb",
      "provenance": [],
      "collapsed_sections": []
    },
    "kernelspec": {
      "name": "python3",
      "display_name": "Python 3"
    }
  },
  "cells": [
    {
      "cell_type": "markdown",
      "metadata": {
        "id": "dmEEYQ-L0MUh",
        "colab_type": "text"
      },
      "source": [
        "# Installazione delle librerie necessarie"
      ]
    },
    {
      "cell_type": "code",
      "metadata": {
        "id": "ZlwXjsmi43Rq",
        "colab_type": "code",
        "colab": {}
      },
      "source": [
        "!pip install --user dnspython\n",
        "!pip install --user twitter"
      ],
      "execution_count": null,
      "outputs": []
    },
    {
      "cell_type": "markdown",
      "metadata": {
        "id": "8WOZxrni0QbT",
        "colab_type": "text"
      },
      "source": [
        "# Importazione delle librerie"
      ]
    },
    {
      "cell_type": "code",
      "metadata": {
        "id": "p1wyJUB13MUG",
        "colab_type": "code",
        "colab": {}
      },
      "source": [
        "import pymongo\n",
        "import dns  # necessario per una connessione MongoDB con SRV\n",
        "import twitter\n",
        "import time\n",
        "from datetime import datetime"
      ],
      "execution_count": null,
      "outputs": []
    },
    {
      "cell_type": "markdown",
      "metadata": {
        "id": "Cl1Qdq0j0Szn",
        "colab_type": "text"
      },
      "source": [
        "# Configurazione del database MongoDB, delle collezioni e utenti"
      ]
    },
    {
      "cell_type": "code",
      "metadata": {
        "id": "qbMZhPeN4xGt",
        "colab_type": "code",
        "colab": {}
      },
      "source": [
        "dbURI = \"mongodb+srv://ilmiocluster.wzfj1.mongodb.net\"\n",
        "dbName = \"Database_del_Progetto\"\n",
        "collectionNameTrendingTopics = \"Trending_Topics\"\n",
        "collectionNameAvailableLocations = \"Available_locations\"\n",
        "dbUsername = \"\"\n",
        "dbPassword = \"\"\n",
        "# localJsonDataFile = \"data.json\""
      ],
      "execution_count": null,
      "outputs": []
    },
    {
      "cell_type": "markdown",
      "metadata": {
        "id": "T6U-2Ccv0VtU",
        "colab_type": "text"
      },
      "source": [
        "# Configurazione delle access keys all'API di Twitter"
      ]
    },
    {
      "cell_type": "code",
      "metadata": {
        "id": "GFbB6tgA3_X9",
        "colab_type": "code",
        "colab": {}
      },
      "source": [
        "API_key = ''\n",
        "API_secret = ''\n",
        "accessToken = ''\n",
        "accessTokenSecret = ''"
      ],
      "execution_count": null,
      "outputs": []
    },
    {
      "cell_type": "markdown",
      "metadata": {
        "id": "jjUdcyqZ0XyJ",
        "colab_type": "text"
      },
      "source": [
        "# Configurazione del tempo in secondi per il reset della rate limit di requests all'API di twitter"
      ]
    },
    {
      "cell_type": "code",
      "metadata": {
        "id": "FYEr7vNUu0pC",
        "colab_type": "code",
        "colab": {}
      },
      "source": [
        "seconds_to_reset = 15 * 60  # 15 minuti"
      ],
      "execution_count": null,
      "outputs": []
    },
    {
      "cell_type": "markdown",
      "metadata": {
        "id": "x-UalyGe0aCX",
        "colab_type": "text"
      },
      "source": [
        "# Definizione delle funzioni di connessione, pulizia di una collection, rinomina e stampa"
      ]
    },
    {
      "cell_type": "code",
      "metadata": {
        "id": "OnnmUCyh5IcJ",
        "colab_type": "code",
        "colab": {}
      },
      "source": [
        "# Connect to a MongoDB database\n",
        "def connectToDB(uri, uname, pword):\n",
        "    return pymongo.MongoClient(uri, username=uname, password=pword)"
      ],
      "execution_count": null,
      "outputs": []
    },
    {
      "cell_type": "code",
      "metadata": {
        "id": "KdRq-nCU5OwQ",
        "colab_type": "code",
        "colab": {}
      },
      "source": [
        "# Pulizia delle collection\n",
        "def cleanCollection(collection):\n",
        "    collection.delete_many({})"
      ],
      "execution_count": null,
      "outputs": []
    },
    {
      "cell_type": "code",
      "metadata": {
        "id": "P-4zeGdX7Vzj",
        "colab_type": "code",
        "colab": {}
      },
      "source": [
        "# Rinomina collection\n",
        "def renameCollection(oldCollection, newCorrectionName):\n",
        "    oldCollection.rename(newCorrectionName)"
      ],
      "execution_count": null,
      "outputs": []
    },
    {
      "cell_type": "code",
      "metadata": {
        "id": "YDFUzAa65KmX",
        "colab_type": "code",
        "colab": {}
      },
      "source": [
        "# Stampa contenuto di una collection\n",
        "def printCollectionData(collection):\n",
        "    for elemento in collection.find():\n",
        "        print(elemento)"
      ],
      "execution_count": null,
      "outputs": []
    },
    {
      "cell_type": "markdown",
      "metadata": {
        "id": "176qZspj0iUJ",
        "colab_type": "text"
      },
      "source": [
        "# Funzione di controllo che dato un trending topic di una certa location in una certa data, controlla che non sia già presente in una collection"
      ]
    },
    {
      "cell_type": "code",
      "metadata": {
        "id": "UH6FCEsivTEW",
        "colab_type": "code",
        "colab": {}
      },
      "source": [
        "def checkIfPresent(collection, trendingTopicRecord):\n",
        "    data = trendingTopicRecord['created_at'][0:10]\n",
        "    woeid = trendingTopicRecord['locations_woeid']\n",
        "    trendName = trendingTopicRecord['name']\n",
        "    presentRecord = collection.find({\"$and\": [{'created_at': {\"$regex\": str(data) + '.*'}},\n",
        "                                              {'locations_woeid': woeid},\n",
        "                                              {'name': trendName}]})\n",
        "    for records in presentRecord:\n",
        "        return True\n",
        "    return False"
      ],
      "execution_count": null,
      "outputs": []
    },
    {
      "cell_type": "markdown",
      "metadata": {
        "id": "BQunSGnl0krH",
        "colab_type": "text"
      },
      "source": [
        "# Definizione di una funzione che data una location, l'API di twitter, una collection delle TT e i tempi da una request all'altra all'API di Twitter e di reset delle rate limit, inserisce le trending topics in tale collezione"
      ]
    },
    {
      "cell_type": "code",
      "metadata": {
        "id": "bteDPcgV-ud8",
        "colab_type": "code",
        "colab": {}
      },
      "source": [
        "def getAndAddTrendingTopics(location,\n",
        "                            api_di_twitter,\n",
        "                            collezione_delle_trending_topics,\n",
        "                            seconds_between_each_app_request_arg,\n",
        "                            seconds_to_reset_arg):\n",
        "    rate_status_trends = api_di_twitter.application.rate_limit_status()['resources']['trends']['/trends/place']\n",
        "    time.sleep(seconds_between_each_app_request_arg)  # wait for trends request time\n",
        "    # print(\"seconds_between_each_app_request   \", seconds_between_each_app_request_arg)\n",
        "    limit_trends = rate_status_trends['limit']\n",
        "    remaining_limit_trends = rate_status_trends['remaining']\n",
        "    seconds_between_each_trends_request = seconds_to_reset_arg / limit_trends\n",
        "    # print(\"remaining_limit_trends             \", remaining_limit_trends)\n",
        "    # print(\"seconds_between_each_trends_request\", seconds_between_each_trends_request)\n",
        "\n",
        "    while remaining_limit_trends <= 1:\n",
        "        remaining_limit_trends = \\\n",
        "            api_di_twitter.application.rate_limit_status()['resources']['trends']['/trends/place']['remaining']\n",
        "        time_to_wait = 0 if remaining_limit_trends > 1 else max(seconds_between_each_trends_request,\n",
        "                                                                seconds_between_each_app_request_arg)\n",
        "        time.sleep(time_to_wait)  # wait for trends or app request time\n",
        "        # print(\"seconds_between_each_app_trend_req \", time_to_wait)\n",
        "        # print(\"remaining_limit_trends             \", remaining_limit_trends)\n",
        "\n",
        "    trendsDataJsonText = api_di_twitter.trends.place(_id=location['woeid'])\n",
        "    time.sleep(max(seconds_between_each_trends_request - seconds_between_each_app_request_arg,\n",
        "                   0))  # wait for trends request time - app request time\n",
        "    trends = trendsDataJsonText[0]['trends']\n",
        "    dateTimeNow = datetime.today().strftime('%Y-%m-%dT%H:%M:%SZ')\n",
        "    metadata = {\n",
        "        \"as_of\": trendsDataJsonText[0]['as_of'],\n",
        "        \"created_at\": str(dateTimeNow),\n",
        "        \"locations_name\": location['name'],\n",
        "        \"location_type\": location['placeType']['name'],\n",
        "        \"locations_woeid\": location['woeid'],\n",
        "        \"parent_id\": location['parentid'],\n",
        "        \"parent_name\": \"Worldwide\" if location['placeType']['name'] == \"Country\" else location[\n",
        "            'country']\n",
        "    }\n",
        "    for trend in trends:\n",
        "        record = {**metadata, **trend}\n",
        "        if not checkIfPresent(collezione_delle_trending_topics, record):  # controlla che tale trending topic non sia già in db\n",
        "            collezione_delle_trending_topics.insert_one(record)"
      ],
      "execution_count": null,
      "outputs": []
    },
    {
      "cell_type": "markdown",
      "metadata": {
        "id": "_U5CARyy0pVo",
        "colab_type": "text"
      },
      "source": [
        "# Definizione di una funzione che dato l'API di Twitter, la collection delle trending topics e delle available locations, dei tempi di secondi tra ogni request e di reset delle rate limit, prende dall'API di twitter i dati e inserisce senza duplicati le available locations con trends e i rispettivi trending topics nelle due collections."
      ]
    },
    {
      "cell_type": "code",
      "metadata": {
        "id": "QzcrjbIuzOP3",
        "colab_type": "code",
        "colab": {}
      },
      "source": [
        "def getAndAddAvailableLocationsAndTrendingTopics(api_di_twitter,\n",
        "                                                 collezione_trending_topics,\n",
        "                                                 collezione_available_locations,\n",
        "                                                 secondsBetweenEachAppRequestArg,\n",
        "                                                 secondsToReset):\n",
        "    dateNow = datetime.today().strftime('%Y-%m-%d')\n",
        "    dateTimeNow = datetime.today().strftime('%Y-%m-%d-%H:%M:%S')\n",
        "    woiedsWhereTrendsAvailable = api_di_twitter.trends.available()\n",
        "\n",
        "    for availableLocation in woiedsWhereTrendsAvailable:\n",
        "\n",
        "        print(\"Adding\", availableLocation['name'], \"to the available locations collection.\")\n",
        "\n",
        "        # Inserimento locations in available locations collection\n",
        "        locationRecord = {\"locations_name\": \"Worldwide\", \"locations_woeid\": 1, \"countries\": []}\n",
        "        locationInDBquery = collezione_available_locations.find({'dateTime': {\"$regex\": str(dateNow) + '.*'}})\n",
        "\n",
        "        locationInDB = \"\"\n",
        "        for item in locationInDBquery:\n",
        "            locationInDB = item\n",
        "\n",
        "        if len(locationInDB) == 0:  # empty locationInDB\n",
        "            if availableLocation['placeType']['name'] != \"Supername\":\n",
        "                if availableLocation['placeType']['name'] == \"Country\":\n",
        "                    locationRecord['countries'] = [\n",
        "                        {\"locations_name\": availableLocation['name'], \"locations_woeid\": availableLocation['woeid'],\n",
        "                         \"towns\": []}]\n",
        "                else:  # it's a town\n",
        "                    locationRecord['countries'] = \\\n",
        "                        [\n",
        "                            {\n",
        "                                \"locations_name\": availableLocation['country'],\n",
        "                                \"locations_woeid\": availableLocation['parentid'],\n",
        "                            }\n",
        "                        ]\n",
        "                    towns = {\"towns\": [{\"locations_name\": availableLocation['name'],\n",
        "                                        \"locations_woeid\": availableLocation['woeid']}]}\n",
        "                    locationRecord = {**locationRecord['countries'][0], **towns}\n",
        "            jsonRecord = {\"dateTime\": dateTimeNow, \"locations\": locationRecord}\n",
        "            collezione_available_locations.insert_one(jsonRecord)\n",
        "        else:  # locationInDB is not empty, contains locations\n",
        "            if availableLocation['placeType']['name'] != \"Supername\":\n",
        "                if availableLocation['placeType']['name'] == \"Country\":\n",
        "                    # check if country is present\n",
        "                    alreadyPresent = False\n",
        "                    for country in locationInDB['locations']['countries']:\n",
        "                        if country['locations_woeid'] == availableLocation['woeid']:\n",
        "                            alreadyPresent = True\n",
        "                    # if country is not present add it\n",
        "                    if not alreadyPresent:\n",
        "                        newCountry = {\"locations_name\": availableLocation['name'],\n",
        "                                      \"locations_woeid\": availableLocation['woeid'], \"towns\": []}\n",
        "                        locationInDB['locations']['countries'] = locationInDB['locations']['countries'] + [newCountry]\n",
        "                        jsonRecord = {\"dateTime\": dateTimeNow, \"locations\": locationInDB['locations']}\n",
        "                        collezione_available_locations.delete_one({'dateTime': {\"$regex\": str(dateNow) + '.*'}})\n",
        "                        collezione_available_locations.insert_one(jsonRecord)\n",
        "                else:  # if it's a town\n",
        "                    # check if the town is present\n",
        "                    alreadyPresentCountry = False\n",
        "                    for country in locationInDB['locations']['countries']:\n",
        "                        # check first if the country is present\n",
        "                        if country['locations_woeid'] == availableLocation['parentid']:\n",
        "                            alreadyPresentCountry = True\n",
        "                            alreadyPresentTown = False\n",
        "                            # Country is present, check if town is present\n",
        "                            for town in country['towns']:\n",
        "                                if town['locations_woeid'] == availableLocation['woeid']:\n",
        "                                    alreadyPresentTown = True\n",
        "                            # if country present but town not present, add town\n",
        "                            if not alreadyPresentTown:\n",
        "                                newTown = {\"locations_name\": availableLocation['name'],\n",
        "                                           \"locations_woeid\": availableLocation['woeid']}\n",
        "                                country['towns'] = country['towns'] + [newTown]\n",
        "                                jsonRecord = {\"dateTime\": dateTimeNow, \"locations\": locationInDB['locations']}\n",
        "                                collezione_available_locations.delete_one({'dateTime': {\"$regex\": str(dateNow) + '.*'}})\n",
        "                                collezione_available_locations.insert_one(jsonRecord)\n",
        "                    # if country not present, add country and town\n",
        "                    if not alreadyPresentCountry:\n",
        "                        newCountry = {\"locations_name\": availableLocation['country'],\n",
        "                                      \"locations_woeid\": availableLocation['parentid'], \"towns\": []}\n",
        "\n",
        "                        newTown = {\"locations_name\": availableLocation['name'],\n",
        "                                   \"locations_woeid\": availableLocation['woeid']}\n",
        "                        newCountry['towns'] = [newTown]\n",
        "                        locationInDB['locations']['countries'] = locationInDB['locations']['countries'] + [newCountry]\n",
        "                        jsonRecord = {\"dateTime\": dateTimeNow, \"locations\": locationInDB['locations']}\n",
        "                        collezione_available_locations.delete_one({'dateTime': {\"$regex\": str(dateNow) + '.*'}})\n",
        "                        collezione_available_locations.insert_one(jsonRecord)\n",
        "\n",
        "        getAndAddTrendingTopics(availableLocation,\n",
        "                                twitterAPI,\n",
        "                                collezione_trending_topics,\n",
        "                                secondsBetweenEachAppRequestArg,\n",
        "                                secondsToReset)  # inserisci i trends"
      ],
      "execution_count": null,
      "outputs": []
    },
    {
      "cell_type": "markdown",
      "metadata": {
        "id": "RRINVnMq0u5i",
        "colab_type": "text"
      },
      "source": [
        "# Creazione delle connessioni all'API di twitter e a MongoDB ed esecuzione delle operazioni di inserimento nelle collections delle locations con available trending topics e i rispettivi TT."
      ]
    },
    {
      "cell_type": "code",
      "metadata": {
        "id": "-qNW6cUAR6YT",
        "colab_type": "code",
        "colab": {}
      },
      "source": [
        "authentication = twitter.oauth.OAuth(accessToken, accessTokenSecret, API_key, API_secret)\n",
        "twitterAPI = twitter.Twitter(auth=authentication)\n",
        "\n",
        "client = connectToDB(dbURI, dbUsername, dbPassword)\n",
        "db = client[dbName]\n",
        "collezioneTrendingTopics = db[collectionNameTrendingTopics]\n",
        "collezioneAvailableLocations = db[collectionNameAvailableLocations]\n",
        "\n",
        "# cleanCollection(collezioneTrendingTopics)\n",
        "# printCollectionData(collezioneTrendingTopics)\n",
        "\n",
        "rate_status_app = \\\n",
        "    twitterAPI.application.rate_limit_status()['resources']['application']['/application/rate_limit_status']\n",
        "limit_app = rate_status_app['limit']\n",
        "remaining_limit_app = rate_status_app['remaining']\n",
        "# print(\"remaining_limit_app                \", remaining_limit_app)\n",
        "seconds_between_each_app_request = seconds_to_reset / limit_app\n",
        "\n",
        "getAndAddAvailableLocationsAndTrendingTopics(twitterAPI,\n",
        "                                             collezioneTrendingTopics,\n",
        "                                             collezioneAvailableLocations,\n",
        "                                             seconds_between_each_app_request,\n",
        "                                             seconds_to_reset)"
      ],
      "execution_count": null,
      "outputs": []
    }
  ]
}
